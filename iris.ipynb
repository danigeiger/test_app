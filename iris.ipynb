{
 "cells": [
  {
   "cell_type": "code",
   "execution_count": 1,
   "metadata": {},
   "outputs": [
    {
     "data": {
      "text/plain": [
       "['model.joblib']"
      ]
     },
     "execution_count": 1,
     "metadata": {},
     "output_type": "execute_result"
    }
   ],
   "source": [
    "# name this file train_dump_joblib.py\n",
    "\n",
    "import joblib # this module saves your model \n",
    "from sklearn.datasets import load_iris\n",
    "from sklearn.ensemble import RandomForestClassifier\n",
    "iris= load_iris()\n",
    "X, y = iris.data, iris.target\n",
    "\n",
    "model= RandomForestClassifier()\n",
    "model.fit(X,y)   #   creates model\n",
    "joblib.dump(model, 'model.joblib') # saves your model variable, named \"model\"\n"
   ]
  },
  {
   "cell_type": "code",
   "execution_count": null,
   "metadata": {},
   "outputs": [],
   "source": [
    "#name this file temp.py\n",
    "import pandas as pd\n",
    "import joblib\n",
    "from sklearn.ensemble import RandomForestClassifer\n",
    "\n",
    "model = joblib.load('model.joblib')\n",
    "df = pd.read_csv('../data/test_data.csv') # creat some file for this... must match iris data set\n",
    "\n",
    "pred = model.predit_proba(df)\n",
    "print(pred)"
   ]
  },
  {
   "cell_type": "code",
   "execution_count": 14,
   "metadata": {},
   "outputs": [
    {
     "name": "stderr",
     "output_type": "stream",
     "text": [
      "2025-01-30 20:06:39.677 WARNING streamlit.runtime.scriptrunner_utils.script_run_context: Thread 'MainThread': missing ScriptRunContext! This warning can be ignored when running in bare mode.\n",
      "2025-01-30 20:06:39.732 \n",
      "  \u001b[33m\u001b[1mWarning:\u001b[0m to view this Streamlit app on a browser, run it with the following\n",
      "  command:\n",
      "\n",
      "    streamlit run /Users/danigeiger/opt/anaconda3/envs/Module_2_670/lib/python3.9/site-packages/ipykernel_launcher.py [ARGUMENTS]\n",
      "2025-01-30 20:06:39.732 Thread 'MainThread': missing ScriptRunContext! This warning can be ignored when running in bare mode.\n"
     ]
    },
    {
     "data": {
      "text/plain": [
       "DeltaGenerator()"
      ]
     },
     "execution_count": 14,
     "metadata": {},
     "output_type": "execute_result"
    }
   ],
   "source": [
    "# name this file app.py\n",
    "\n",
    "import streamlit as st\n",
    "import pandas as pd\n",
    "import joblib\n",
    "from sklearn.ensemble import RandomForestClassifier \n",
    "\n",
    "st.title('Iris model inference')"
   ]
  },
  {
   "cell_type": "markdown",
   "metadata": {},
   "source": [
    "# name this file requirements.txt\n",
    "\n",
    "pandas ==  2.0.3\n",
    "steamlit == 1.41\n",
    "scikit-learn == 1.3.0\n",
    "joblib == 1.3.2 \n"
   ]
  },
  {
   "cell_type": "code",
   "execution_count": 1,
   "metadata": {},
   "outputs": [
    {
     "name": "stdout",
     "output_type": "stream",
     "text": [
      "/Users/danigeiger/Desktop/Capstone\n"
     ]
    }
   ],
   "source": [
    "import os\n",
    "print(os.getcwd())\n"
   ]
  }
 ],
 "metadata": {
  "kernelspec": {
   "display_name": "Python 3.9.18 ('Module_2_670')",
   "language": "python",
   "name": "python3"
  },
  "language_info": {
   "codemirror_mode": {
    "name": "ipython",
    "version": 3
   },
   "file_extension": ".py",
   "mimetype": "text/x-python",
   "name": "python",
   "nbconvert_exporter": "python",
   "pygments_lexer": "ipython3",
   "version": "3.9.18"
  },
  "orig_nbformat": 4,
  "vscode": {
   "interpreter": {
    "hash": "a6f98132c7a593f098ecf3b56dab609f7813301d269f9202a13e4dfaf977ca82"
   }
  }
 },
 "nbformat": 4,
 "nbformat_minor": 2
}
